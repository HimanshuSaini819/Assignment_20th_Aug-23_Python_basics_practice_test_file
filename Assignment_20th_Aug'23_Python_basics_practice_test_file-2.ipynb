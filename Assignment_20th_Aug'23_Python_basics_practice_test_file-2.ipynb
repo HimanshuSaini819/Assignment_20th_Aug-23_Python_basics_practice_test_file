{
  "nbformat": 4,
  "nbformat_minor": 0,
  "metadata": {
    "colab": {
      "provenance": []
    },
    "kernelspec": {
      "name": "python3",
      "display_name": "Python 3"
    },
    "language_info": {
      "name": "python"
    }
  },
  "cells": [
    {
      "cell_type": "code",
      "execution_count": null,
      "metadata": {
        "id": "gESFCn1yc6wS"
      },
      "outputs": [],
      "source": [
        "# TOPIC: String Based Assignment Problem"
      ]
    },
    {
      "cell_type": "code",
      "source": [
        "# 1. Write a program to reverse a string.\n",
        "str = input(\" enter a string \")\n",
        "str=str[::-1]\n",
        "print (str)"
      ],
      "metadata": {
        "colab": {
          "base_uri": "https://localhost:8080/"
        },
        "id": "ZcsY8-bgdQbe",
        "outputId": "6a1cac75-a60e-4537-bc98-d7296614d7da"
      },
      "execution_count": null,
      "outputs": [
        {
          "output_type": "stream",
          "name": "stdout",
          "text": [
            "enter a stringlieutanent\n",
            "tnenatueil\n"
          ]
        }
      ]
    },
    {
      "cell_type": "code",
      "source": [
        "#2. Check if a string is a palindrome.\n",
        "str = input(\" enter a string \")\n",
        "if str==str[::-1]:\n",
        "    print(\"palindrome\")\n",
        "else:\n",
        "    print(\"not palindrome\")\n"
      ],
      "metadata": {
        "colab": {
          "base_uri": "https://localhost:8080/"
        },
        "id": "MgQpx5lXe1Ce",
        "outputId": "919312a9-67e5-4057-d3a4-0a3b5cd084b5"
      },
      "execution_count": null,
      "outputs": [
        {
          "output_type": "stream",
          "name": "stdout",
          "text": [
            " enter a string madam\n",
            "palindrome\n"
          ]
        }
      ]
    },
    {
      "cell_type": "code",
      "source": [
        "#3. Convert a string to uppercase.\n",
        "s = \"pwskills\"\n",
        "s.upper()"
      ],
      "metadata": {
        "colab": {
          "base_uri": "https://localhost:8080/",
          "height": 35
        },
        "id": "UIVrWFaThIsi",
        "outputId": "a6976e3e-a31f-4866-a13d-95bdc09eeb1a"
      },
      "execution_count": null,
      "outputs": [
        {
          "output_type": "execute_result",
          "data": {
            "text/plain": [
              "'PWSKILLS'"
            ],
            "application/vnd.google.colaboratory.intrinsic+json": {
              "type": "string"
            }
          },
          "metadata": {},
          "execution_count": 11
        }
      ]
    },
    {
      "cell_type": "code",
      "source": [
        "#4. Convert a string to lowercase.\n",
        "s=\"PWSKILLS\"\n",
        "s.lower()"
      ],
      "metadata": {
        "colab": {
          "base_uri": "https://localhost:8080/",
          "height": 35
        },
        "id": "OAGh22LO5dfJ",
        "outputId": "46e5f471-9fcd-40d2-c28c-e1d8890c5ab8"
      },
      "execution_count": null,
      "outputs": [
        {
          "output_type": "execute_result",
          "data": {
            "text/plain": [
              "'pwskills'"
            ],
            "application/vnd.google.colaboratory.intrinsic+json": {
              "type": "string"
            }
          },
          "metadata": {},
          "execution_count": 12
        }
      ]
    },
    {
      "cell_type": "code",
      "source": [
        "#5. Count the number of vowels in a string.\n",
        "string = input(\"Enter a string: \")\n",
        "vowels = \"aeiouAEIOU\"\n",
        "count = 0\n",
        "for char in string:\n",
        "    if char in vowels:\n",
        "        count += 1\n",
        "print(\"The number of vowels in the string is:\", count)"
      ],
      "metadata": {
        "colab": {
          "base_uri": "https://localhost:8080/"
        },
        "id": "k4pnS3OM59wh",
        "outputId": "26706055-ee6c-4a1f-9656-593757a907e1"
      },
      "execution_count": null,
      "outputs": [
        {
          "output_type": "stream",
          "name": "stdout",
          "text": [
            "Enter a string: sphincetertome\n",
            "The number of vowels in the string is: 5\n"
          ]
        }
      ]
    },
    {
      "cell_type": "code",
      "source": [
        "#6. Count the number of consonants in a string.\n",
        "string = input(\"enter a string\")\n",
        "vowels =\"aeiouAEIOU\"\n",
        "count = 0\n",
        "for char in string:\n",
        "  if char not in vowels:\n",
        "    count += 1\n",
        "print(\"The number of consonants in the string is:\", count)"
      ],
      "metadata": {
        "colab": {
          "base_uri": "https://localhost:8080/"
        },
        "id": "QzvhMsjt6vL_",
        "outputId": "767efd36-5fb1-4b08-f490-5d8ddb88dcf6"
      },
      "execution_count": null,
      "outputs": [
        {
          "output_type": "stream",
          "name": "stdout",
          "text": [
            "enter a stringvisiglidewire\n",
            "The number of consonants in the string is: 7\n"
          ]
        }
      ]
    },
    {
      "cell_type": "code",
      "source": [
        "#7. Remove all whitespaces from a string.\n",
        "str = input( \"enter a string\")\n",
        "str = str.replace(\" \",\"\")\n",
        "print(str)"
      ],
      "metadata": {
        "colab": {
          "base_uri": "https://localhost:8080/"
        },
        "id": "5u3zKAlS7v7f",
        "outputId": "9d53d7cf-8196-4933-ee43-868629a18af5"
      },
      "execution_count": null,
      "outputs": [
        {
          "output_type": "stream",
          "name": "stdout",
          "text": [
            "enter a stringmicro tech me\n",
            "microtechme\n"
          ]
        }
      ]
    },
    {
      "cell_type": "code",
      "source": [
        "\n",
        "#8. Find the length of a string without using the `len()` function.\n",
        "str = input( \"enter a string\")\n",
        "count = 0\n",
        "for i in str:\n",
        "    count += 1\n",
        "print(count)"
      ],
      "metadata": {
        "colab": {
          "base_uri": "https://localhost:8080/"
        },
        "id": "sfYavDQE8RrK",
        "outputId": "3866df49-12f0-4efa-d0a0-897fee208779"
      },
      "execution_count": null,
      "outputs": [
        {
          "output_type": "stream",
          "name": "stdout",
          "text": [
            "enter a stringhimanshu saini\n",
            "14\n"
          ]
        }
      ]
    },
    {
      "cell_type": "code",
      "source": [
        "#9. Check if a string contains a specific word.\n",
        "str = \"i love bike and car\"\n",
        "if \"bike\" in str:\n",
        "    print(\"bike is present\")\n",
        "else:\n",
        "    print(\"bike is not present\")"
      ],
      "metadata": {
        "colab": {
          "base_uri": "https://localhost:8080/"
        },
        "id": "aLbFsmhi9JkG",
        "outputId": "8591d5c0-ad60-464f-d0f0-abee415cb73b"
      },
      "execution_count": null,
      "outputs": [
        {
          "output_type": "stream",
          "name": "stdout",
          "text": [
            "bike is present\n"
          ]
        }
      ]
    },
    {
      "cell_type": "code",
      "source": [
        "#10. Replace a word in a string with another word.\n",
        "str = \"i love my new car\"\n",
        "str =str.replace(\"new car\",\"INDIA\")\n",
        "print(str)"
      ],
      "metadata": {
        "colab": {
          "base_uri": "https://localhost:8080/"
        },
        "id": "Goe3ir1U_nfS",
        "outputId": "a3456688-4087-47dc-e71a-308b45e7e2e6"
      },
      "execution_count": null,
      "outputs": [
        {
          "output_type": "stream",
          "name": "stdout",
          "text": [
            "i love my INDIA\n"
          ]
        }
      ]
    },
    {
      "cell_type": "code",
      "source": [
        "#11. Count the occurrences of a word in a string.\n",
        "str = \"Set your home address to find places near you\"\n",
        "str.count(\"near\")"
      ],
      "metadata": {
        "colab": {
          "base_uri": "https://localhost:8080/"
        },
        "id": "JcIqbkNWAhfP",
        "outputId": "8d27b7a3-080d-4bcd-cc6f-a386d5e6a424"
      },
      "execution_count": null,
      "outputs": [
        {
          "output_type": "execute_result",
          "data": {
            "text/plain": [
              "1"
            ]
          },
          "metadata": {},
          "execution_count": 23
        }
      ]
    },
    {
      "cell_type": "code",
      "source": [
        "#12. Find the first occurrence of a word in a string.\n",
        "str = \"occurrence\"\n",
        "str[0]"
      ],
      "metadata": {
        "colab": {
          "base_uri": "https://localhost:8080/",
          "height": 35
        },
        "id": "c9SKrvJpBsE8",
        "outputId": "3833d57d-4d66-44a8-bc3f-3ccb18fba978"
      },
      "execution_count": null,
      "outputs": [
        {
          "output_type": "execute_result",
          "data": {
            "text/plain": [
              "'o'"
            ],
            "application/vnd.google.colaboratory.intrinsic+json": {
              "type": "string"
            }
          },
          "metadata": {},
          "execution_count": 26
        }
      ]
    },
    {
      "cell_type": "code",
      "source": [
        "#13. Find the last occurrence of a word in a string.\n",
        "str = \"occurrence\"\n",
        "str[-1]"
      ],
      "metadata": {
        "colab": {
          "base_uri": "https://localhost:8080/",
          "height": 35
        },
        "id": "V3cWZ0bdBz-9",
        "outputId": "790c8467-9be9-4bc1-cfc4-4fd3fe4f7d66"
      },
      "execution_count": null,
      "outputs": [
        {
          "output_type": "execute_result",
          "data": {
            "text/plain": [
              "'e'"
            ],
            "application/vnd.google.colaboratory.intrinsic+json": {
              "type": "string"
            }
          },
          "metadata": {},
          "execution_count": 27
        }
      ]
    },
    {
      "cell_type": "code",
      "source": [
        "#14. Split a string into a list of words.\n",
        "str = \"hardwork\"\n",
        "str.split()"
      ],
      "metadata": {
        "colab": {
          "base_uri": "https://localhost:8080/"
        },
        "id": "UlF2JEY_DzPG",
        "outputId": "3c6679d3-0070-420b-bd07-28a9459b88b6"
      },
      "execution_count": null,
      "outputs": [
        {
          "output_type": "execute_result",
          "data": {
            "text/plain": [
              "['hardwork']"
            ]
          },
          "metadata": {},
          "execution_count": 29
        }
      ]
    },
    {
      "cell_type": "code",
      "source": [
        "#15. Join a list of words into a string.\n",
        "l=[\" earth \",\" is \",\" round \"]\n",
        "s=\"life\"\n",
        "j=s+l[0]+l[1]+l[2]\n",
        "print(j)"
      ],
      "metadata": {
        "colab": {
          "base_uri": "https://localhost:8080/"
        },
        "id": "LmHLX7lBECeA",
        "outputId": "b7fe750a-f79c-4753-8668-29aa65ff6019"
      },
      "execution_count": null,
      "outputs": [
        {
          "output_type": "stream",
          "name": "stdout",
          "text": [
            "life earth  is  round \n"
          ]
        }
      ]
    },
    {
      "cell_type": "code",
      "source": [
        "#16. Convert a string where words are separated by spaces to one where wordsare separated by underscores.\n",
        "str = \"the earth move around sun\"\n",
        "str = str.replace(\" \",\"_\")\n",
        "print(str)"
      ],
      "metadata": {
        "colab": {
          "base_uri": "https://localhost:8080/"
        },
        "id": "7iGSm0s3Elq3",
        "outputId": "5313678d-409d-4552-fec9-f100882827f1"
      },
      "execution_count": null,
      "outputs": [
        {
          "output_type": "stream",
          "name": "stdout",
          "text": [
            "the_earth_move_around_sun\n"
          ]
        }
      ]
    },
    {
      "cell_type": "code",
      "source": [
        "# 17. Check if a string starts with a specific word or phrase.\n",
        "str = \"underscores\"\n",
        "str.startswith(\"u\")"
      ],
      "metadata": {
        "colab": {
          "base_uri": "https://localhost:8080/"
        },
        "id": "hFuQXwlIGvVb",
        "outputId": "bb9dff2b-e403-4309-a370-aeeb630d5594"
      },
      "execution_count": null,
      "outputs": [
        {
          "output_type": "execute_result",
          "data": {
            "text/plain": [
              "True"
            ]
          },
          "metadata": {},
          "execution_count": 38
        }
      ]
    },
    {
      "cell_type": "code",
      "source": [
        "# 18. Check if a string ends with a specific word or phrase.\n",
        "str = \"underscores\"\n",
        "str.endswith(\"es\")\n"
      ],
      "metadata": {
        "colab": {
          "base_uri": "https://localhost:8080/"
        },
        "id": "nk1Tl9fHHVfL",
        "outputId": "6c2238a4-473a-4bd1-ea53-a0d44d928451"
      },
      "execution_count": null,
      "outputs": [
        {
          "output_type": "execute_result",
          "data": {
            "text/plain": [
              "True"
            ]
          },
          "metadata": {},
          "execution_count": 40
        }
      ]
    },
    {
      "cell_type": "code",
      "source": [
        "# 19. Convert a string to title case (e.g., \"hello world\" to \"Hello World\").\n",
        "str = \"hello world\"\n",
        "str.title()"
      ],
      "metadata": {
        "colab": {
          "base_uri": "https://localhost:8080/",
          "height": 35
        },
        "id": "mrDrWox0HoTE",
        "outputId": "f43522d8-0ff4-45c5-b985-2d8fff1e6cae"
      },
      "execution_count": null,
      "outputs": [
        {
          "output_type": "execute_result",
          "data": {
            "text/plain": [
              "'Hello World'"
            ],
            "application/vnd.google.colaboratory.intrinsic+json": {
              "type": "string"
            }
          },
          "metadata": {},
          "execution_count": 41
        }
      ]
    },
    {
      "cell_type": "code",
      "source": [
        "# 20. Find the longest word in a string.\n",
        "str = \"Business Analysis & Process Management Coursera Project Network\"\n",
        "\n",
        "words = str.split()\n",
        "\n",
        "longest_word = words[0]\n",
        "\n",
        "# Iterate through the words and update longest_word if a longer word is found\n",
        "for word in words:\n",
        "    if len(word) > len(longest_word):\n",
        "        longest_word = word\n",
        "\n",
        "print(longest_word)"
      ],
      "metadata": {
        "colab": {
          "base_uri": "https://localhost:8080/"
        },
        "id": "axU7gCgaIKud",
        "outputId": "3c606079-352f-4aa5-f8f4-6de3b0785a96"
      },
      "execution_count": null,
      "outputs": [
        {
          "output_type": "stream",
          "name": "stdout",
          "text": [
            "Management\n"
          ]
        }
      ]
    },
    {
      "cell_type": "code",
      "source": [
        "#21. Find the shortest word in a string.\n",
        "str = \"Business Analysis & Process Management Coursera Project Network\"\n",
        "words = str.split()\n",
        "shortest_word = words[0]\n",
        "for word in words:\n",
        "  if len(word)<len(shortest_word):\n",
        "    shortest_word = word\n",
        "print (shortest_word)"
      ],
      "metadata": {
        "colab": {
          "base_uri": "https://localhost:8080/"
        },
        "id": "HfKWwBQyI6YB",
        "outputId": "f23b6605-bb2b-4993-87b9-9e30207a8134"
      },
      "execution_count": null,
      "outputs": [
        {
          "output_type": "stream",
          "name": "stdout",
          "text": [
            "&\n"
          ]
        }
      ]
    },
    {
      "cell_type": "code",
      "source": [
        "# 22. Reverse the order of words in a string.\n",
        "str=\"noida\"\n",
        "str[::-1]"
      ],
      "metadata": {
        "colab": {
          "base_uri": "https://localhost:8080/",
          "height": 35
        },
        "id": "NvUNlA7wKyGa",
        "outputId": "8677ca3f-e21c-4a81-b2d0-7b7cdeb0f58b"
      },
      "execution_count": null,
      "outputs": [
        {
          "output_type": "execute_result",
          "data": {
            "text/plain": [
              "'adion'"
            ],
            "application/vnd.google.colaboratory.intrinsic+json": {
              "type": "string"
            }
          },
          "metadata": {},
          "execution_count": 45
        }
      ]
    },
    {
      "cell_type": "code",
      "source": [
        "#23. Check if a string is alphanumeric.\n",
        "str = input(\"enter a string: \")\n",
        "if str.isalnum():\n",
        "    print(\"the string is alphanumeric\")\n",
        "else:\n",
        "    print(\"the string is not alphanumeric\")"
      ],
      "metadata": {
        "colab": {
          "base_uri": "https://localhost:8080/"
        },
        "id": "nBRKviYuLcTb",
        "outputId": "b3c736bb-d6e6-4bbc-f6d7-5f44aaef54ea"
      },
      "execution_count": null,
      "outputs": [
        {
          "output_type": "stream",
          "name": "stdout",
          "text": [
            "enter a string: hello123check\n",
            "the string is alphanumeric\n"
          ]
        }
      ]
    },
    {
      "cell_type": "code",
      "source": [
        "#24. Extract all digits from a string.\n",
        "str = input(\"enter a string: \")\n",
        "for i in str:\n",
        "  if i.isdigit():\n",
        "    print(i)\n"
      ],
      "metadata": {
        "colab": {
          "base_uri": "https://localhost:8080/"
        },
        "id": "Cx6tE7hfMYk8",
        "outputId": "ea8e905c-f744-4092-d420-c78ce2690bb8"
      },
      "execution_count": null,
      "outputs": [
        {
          "output_type": "stream",
          "name": "stdout",
          "text": [
            "enter a string: hello 123 check\n",
            "1\n",
            "2\n",
            "3\n"
          ]
        }
      ]
    },
    {
      "cell_type": "code",
      "source": [
        "#25. Extract all alphabets from a string.\n",
        "str = input(\"enter a string\")\n",
        "for i in str:\n",
        "  if i.isalpha():\n",
        "    print(i)"
      ],
      "metadata": {
        "colab": {
          "base_uri": "https://localhost:8080/"
        },
        "id": "uEklF18zNR59",
        "outputId": "74da272e-64d4-4152-de47-8510f93c0eaa"
      },
      "execution_count": null,
      "outputs": [
        {
          "output_type": "stream",
          "name": "stdout",
          "text": [
            "enter a stringI love you 143\n",
            "I\n",
            "l\n",
            "o\n",
            "v\n",
            "e\n",
            "y\n",
            "o\n",
            "u\n"
          ]
        }
      ]
    },
    {
      "cell_type": "code",
      "source": [
        "#26. Count the number of uppercase letters in a string.\n",
        "str = input(\"enter a string \")\n",
        "count = 0\n",
        "if i.isupper():\n",
        "  count += 1\n",
        "print(count)"
      ],
      "metadata": {
        "colab": {
          "base_uri": "https://localhost:8080/"
        },
        "id": "1Dx0YRjoOrBh",
        "outputId": "6803b8be-7b0b-4c2b-d037-023772f2adcc"
      },
      "execution_count": null,
      "outputs": [
        {
          "output_type": "stream",
          "name": "stdout",
          "text": [
            "enter a string Hello my friend\n",
            "0\n"
          ]
        }
      ]
    },
    {
      "cell_type": "code",
      "source": [
        "#27. Count the number of lowercase letters in a string.\n",
        "str = input(\"enter a string \")\n",
        "count = 0\n",
        "if i.islower():\n",
        "  count += 1\n",
        "print(count)"
      ],
      "metadata": {
        "colab": {
          "base_uri": "https://localhost:8080/"
        },
        "id": "av9yYLk8PZ4m",
        "outputId": "4481b886-83f4-4586-f9c7-4d78cd331bf3"
      },
      "execution_count": null,
      "outputs": [
        {
          "output_type": "stream",
          "name": "stdout",
          "text": [
            "enter a string himANSHU\n",
            "0\n"
          ]
        }
      ]
    },
    {
      "cell_type": "code",
      "source": [
        "#28. Swap the case of each character in a string.\n",
        "STR = \"PwSkills\"\n",
        "STR.swapcase()"
      ],
      "metadata": {
        "colab": {
          "base_uri": "https://localhost:8080/",
          "height": 35
        },
        "id": "ZOBEqfqwQtQ3",
        "outputId": "2eb56f9e-f7f7-489f-9c25-eaac2c7eb090"
      },
      "execution_count": null,
      "outputs": [
        {
          "output_type": "execute_result",
          "data": {
            "text/plain": [
              "'pWsKILLS'"
            ],
            "application/vnd.google.colaboratory.intrinsic+json": {
              "type": "string"
            }
          },
          "metadata": {},
          "execution_count": 60
        }
      ]
    },
    {
      "cell_type": "code",
      "source": [
        "#29. Remove a specific word from a string.\n",
        "str = \" 29 Remove @ specific word from a string \"\n",
        "str = str.replace(\"@\",\"a\")\n",
        "print(str)\n"
      ],
      "metadata": {
        "colab": {
          "base_uri": "https://localhost:8080/"
        },
        "id": "C_b2qabCRAMj",
        "outputId": "4ea52124-1379-478f-c080-b8a00637d5d3"
      },
      "execution_count": null,
      "outputs": [
        {
          "output_type": "stream",
          "name": "stdout",
          "text": [
            " 29 Remove a specific word from a string \n"
          ]
        }
      ]
    },
    {
      "cell_type": "code",
      "source": [
        "#30. Check if a string is a valid email address.\n"
      ],
      "metadata": {
        "id": "qOe3_osoR-sv"
      },
      "execution_count": null,
      "outputs": []
    },
    {
      "cell_type": "code",
      "source": [
        "#List Based Practice Problem"
      ],
      "metadata": {
        "id": "jYMqtkWlBYaY"
      },
      "execution_count": 1,
      "outputs": []
    },
    {
      "cell_type": "code",
      "source": [
        "#1. Create a list with integers from 1 to 10.\n",
        "l = [1,2,3,4,5,6,7,8,9,10]\n",
        "print(l)"
      ],
      "metadata": {
        "colab": {
          "base_uri": "https://localhost:8080/"
        },
        "id": "GHUz2UCqJZhN",
        "outputId": "8f10e0d3-bcfc-4d7a-ed26-9cc00716aee9"
      },
      "execution_count": 3,
      "outputs": [
        {
          "output_type": "stream",
          "name": "stdout",
          "text": [
            "[1, 2, 3, 4, 5, 6, 7, 8, 9, 10]\n"
          ]
        }
      ]
    },
    {
      "cell_type": "code",
      "source": [
        "#2. Find the length of a list without using the `len()` function.\n",
        "l = [1,2,3,4,5,6,7,8,9,10]\n",
        "count=0\n",
        "for i in l:\n",
        "  count +=1\n",
        "  print(count)"
      ],
      "metadata": {
        "colab": {
          "base_uri": "https://localhost:8080/"
        },
        "id": "uMddca0qJfHO",
        "outputId": "f7d9f5eb-3f0b-4eea-b105-92428c72e278"
      },
      "execution_count": 6,
      "outputs": [
        {
          "output_type": "stream",
          "name": "stdout",
          "text": [
            "1\n",
            "2\n",
            "3\n",
            "4\n",
            "5\n",
            "6\n",
            "7\n",
            "8\n",
            "9\n",
            "10\n"
          ]
        }
      ]
    },
    {
      "cell_type": "code",
      "source": [
        "#3. Append an element to the end of a list.\n",
        "l = [1,2,3,4,5,6,7,8,9,10]\n",
        "l.append(11)\n",
        "print(l)"
      ],
      "metadata": {
        "colab": {
          "base_uri": "https://localhost:8080/"
        },
        "id": "RQXswer8JqPh",
        "outputId": "b1c45df0-6bb9-40d8-9a93-e6aa7d3be8ef"
      },
      "execution_count": 7,
      "outputs": [
        {
          "output_type": "stream",
          "name": "stdout",
          "text": [
            "[1, 2, 3, 4, 5, 6, 7, 8, 9, 10, 11]\n"
          ]
        }
      ]
    },
    {
      "cell_type": "code",
      "source": [
        "#4. Insert an element at a specific index in a list.\n",
        "l = [1,2,3,4,5,6,7,8,9,10]\n",
        "l.insert(10,11)\n",
        "print(l)"
      ],
      "metadata": {
        "colab": {
          "base_uri": "https://localhost:8080/"
        },
        "id": "aybecE-MKUbS",
        "outputId": "23ee3594-9fe0-4403-b14c-5fa098935d51"
      },
      "execution_count": 8,
      "outputs": [
        {
          "output_type": "stream",
          "name": "stdout",
          "text": [
            "[1, 2, 3, 4, 5, 6, 7, 8, 9, 10, 11]\n"
          ]
        }
      ]
    },
    {
      "cell_type": "code",
      "source": [
        "#5. Remove an element from a list by its value.\n",
        "l = [1,2,3,4,5,6,7,8,9,10]\n",
        "l.remove(10)\n",
        "print(l)"
      ],
      "metadata": {
        "colab": {
          "base_uri": "https://localhost:8080/"
        },
        "id": "Pr9iNv4hKrRy",
        "outputId": "aadf2f42-ab94-4cad-e064-4bc26ebe8038"
      },
      "execution_count": 9,
      "outputs": [
        {
          "output_type": "stream",
          "name": "stdout",
          "text": [
            "[1, 2, 3, 4, 5, 6, 7, 8, 9]\n"
          ]
        }
      ]
    },
    {
      "cell_type": "code",
      "source": [
        "#6. Remove an element from a list by its index.\n",
        "l = [1,2,3,4,5,6,7,8,9,10]\n",
        "l.pop(-1)\n",
        "print(l)"
      ],
      "metadata": {
        "colab": {
          "base_uri": "https://localhost:8080/"
        },
        "id": "Z8G_kG89K3TJ",
        "outputId": "d33135b8-5179-4d7a-e365-6e1cd8709497"
      },
      "execution_count": 15,
      "outputs": [
        {
          "output_type": "stream",
          "name": "stdout",
          "text": [
            "[1, 2, 3, 4, 5, 6, 7, 8, 9]\n"
          ]
        }
      ]
    },
    {
      "cell_type": "code",
      "source": [
        "#7. Check if an element exists in a list.\n",
        "l = [1,2,3,4,5,6,7,8,9,10]\n",
        "if 10 in l:\n",
        "  print(\"exist\")\n",
        "else:\n",
        "  print(\"not exist\")"
      ],
      "metadata": {
        "colab": {
          "base_uri": "https://localhost:8080/"
        },
        "id": "ZSElFzF_LStx",
        "outputId": "fab66760-0fd2-4ac2-d91c-3174c910d605"
      },
      "execution_count": 16,
      "outputs": [
        {
          "output_type": "stream",
          "name": "stdout",
          "text": [
            "exist\n"
          ]
        }
      ]
    },
    {
      "cell_type": "code",
      "source": [
        "#8. Find the index of the first occurrence of an element in a list.\n",
        "l =[1,2,3,1,2,3,4,5]\n",
        "l.index(1)"
      ],
      "metadata": {
        "colab": {
          "base_uri": "https://localhost:8080/"
        },
        "id": "VKHBw4gPMZ3D",
        "outputId": "3e91feff-9940-4b5d-b4d7-df1d6b6067df"
      },
      "execution_count": 22,
      "outputs": [
        {
          "output_type": "execute_result",
          "data": {
            "text/plain": [
              "0"
            ]
          },
          "metadata": {},
          "execution_count": 22
        }
      ]
    },
    {
      "cell_type": "code",
      "source": [
        "#8. Find the index of the first occurrence of an element in a list.\n",
        "l =[1,2,2,3,3,3,4,4,4,4,5,5,5,5,5]\n",
        "l.count(2)"
      ],
      "metadata": {
        "colab": {
          "base_uri": "https://localhost:8080/"
        },
        "id": "Y--x0_sfSduF",
        "outputId": "1c152b06-68f0-4821-cf22-a25201f4fa45"
      },
      "execution_count": 25,
      "outputs": [
        {
          "output_type": "execute_result",
          "data": {
            "text/plain": [
              "2"
            ]
          },
          "metadata": {},
          "execution_count": 25
        }
      ]
    },
    {
      "cell_type": "code",
      "source": [
        "#10. Reverse the order of elements in a list.\n",
        "l = [1,2,3,4,5,6,7,8,9]\n",
        "l[::-1]"
      ],
      "metadata": {
        "colab": {
          "base_uri": "https://localhost:8080/"
        },
        "id": "8We48fqeTOTZ",
        "outputId": "2c2c4453-a007-45b5-dd0f-9e9c3db133fd"
      },
      "execution_count": 27,
      "outputs": [
        {
          "output_type": "execute_result",
          "data": {
            "text/plain": [
              "[9, 8, 7, 6, 5, 4, 3, 2, 1]"
            ]
          },
          "metadata": {},
          "execution_count": 27
        }
      ]
    },
    {
      "cell_type": "code",
      "source": [
        "#11. Sort a list in ascending order.\n",
        "l=[10,30,20,5,40,50,3,2]\n",
        "l.sort()\n",
        "print(l)"
      ],
      "metadata": {
        "colab": {
          "base_uri": "https://localhost:8080/"
        },
        "id": "9I4dUqIUTu1V",
        "outputId": "988e9186-23bd-4bc2-ba96-c3dd1f55e4c4"
      },
      "execution_count": 33,
      "outputs": [
        {
          "output_type": "stream",
          "name": "stdout",
          "text": [
            "[2, 3, 5, 10, 20, 30, 40, 50]\n"
          ]
        }
      ]
    },
    {
      "cell_type": "code",
      "source": [
        "#12. Sort a list in descending order.\n",
        "l=[10,30,20,5,40,50,3,2]\n",
        "l.sort(reverse=True)\n",
        "print(l)"
      ],
      "metadata": {
        "colab": {
          "base_uri": "https://localhost:8080/"
        },
        "id": "6rAQtG3qUr3k",
        "outputId": "993f7ac6-b3c8-4432-9609-0946998ea900"
      },
      "execution_count": 37,
      "outputs": [
        {
          "output_type": "stream",
          "name": "stdout",
          "text": [
            "[50, 40, 30, 20, 10, 5, 3, 2]\n"
          ]
        }
      ]
    },
    {
      "cell_type": "code",
      "source": [
        "#13. Create a list of even numbers from 1 to 20.\n",
        "l1 = list(range(2,21,2))\n",
        "print(l1)"
      ],
      "metadata": {
        "colab": {
          "base_uri": "https://localhost:8080/"
        },
        "id": "_6IJO_34VDqP",
        "outputId": "7709b866-06d1-4960-833d-8634816d5343"
      },
      "execution_count": 41,
      "outputs": [
        {
          "output_type": "stream",
          "name": "stdout",
          "text": [
            "[2, 4, 6, 8, 10, 12, 14, 16, 18, 20]\n"
          ]
        }
      ]
    },
    {
      "cell_type": "code",
      "source": [
        "#14. Create a list of odd numbers from 1 to 20.\n",
        "l1 = list(range(1,21))\n",
        "for i in l1:\n",
        "    if i % 2 != 1:\n",
        "        l1.remove(i)\n",
        "print(l1)\n"
      ],
      "metadata": {
        "colab": {
          "base_uri": "https://localhost:8080/"
        },
        "id": "KNugioE_Vp3R",
        "outputId": "208cfcd9-fa0d-46fa-8259-fcfb636c8c82"
      },
      "execution_count": 46,
      "outputs": [
        {
          "output_type": "stream",
          "name": "stdout",
          "text": [
            "[1, 3, 5, 7, 9, 11, 13, 15, 17, 19]\n"
          ]
        }
      ]
    },
    {
      "cell_type": "code",
      "source": [
        "#15. Find the sum of all elements in a list.\n",
        "l=[2,4,67,8,88,4,1,1,2,]\n",
        "total_sum = sum(l)\n",
        "print(total_sum)"
      ],
      "metadata": {
        "colab": {
          "base_uri": "https://localhost:8080/"
        },
        "id": "Wxjv__eIWrhh",
        "outputId": "858ecfab-2860-49a3-887d-0621fb388405"
      },
      "execution_count": 49,
      "outputs": [
        {
          "output_type": "stream",
          "name": "stdout",
          "text": [
            "177\n"
          ]
        }
      ]
    },
    {
      "cell_type": "code",
      "source": [
        "#16. Find the maximum value in a list.\n",
        "l=[2,4,67,8,88,4,1,1,2,]\n",
        "max_value = max(l)\n",
        "print(max_value)"
      ],
      "metadata": {
        "colab": {
          "base_uri": "https://localhost:8080/"
        },
        "id": "f6mzS_dOXZwR",
        "outputId": "075431e3-de14-4990-c2c0-55d1661adeaf"
      },
      "execution_count": 50,
      "outputs": [
        {
          "output_type": "stream",
          "name": "stdout",
          "text": [
            "88\n"
          ]
        }
      ]
    },
    {
      "cell_type": "code",
      "source": [
        "#17. Find the minimum value in a list.\n",
        "l=[2,4,67,8,88,4,1,1,2,]\n",
        "min_value = min(l)\n",
        "print(min_value)"
      ],
      "metadata": {
        "colab": {
          "base_uri": "https://localhost:8080/"
        },
        "id": "VZ8TMFugX2Wj",
        "outputId": "73dffa4e-652a-4811-96c2-c42f8b5c65be"
      },
      "execution_count": 51,
      "outputs": [
        {
          "output_type": "stream",
          "name": "stdout",
          "text": [
            "1\n"
          ]
        }
      ]
    },
    {
      "cell_type": "code",
      "source": [
        "#18. Create a list of squares of numbers from 1 to 10.\n",
        "l=[1,2,3,4,5,6,7,8,9,10]\n",
        "for i in l:\n",
        "  if i**2:\n",
        "    print(i**2)"
      ],
      "metadata": {
        "colab": {
          "base_uri": "https://localhost:8080/"
        },
        "id": "Afqd0HbCX8cz",
        "outputId": "a008dcc0-3b07-4432-9b40-2f09f17b4c23"
      },
      "execution_count": 54,
      "outputs": [
        {
          "output_type": "stream",
          "name": "stdout",
          "text": [
            "1\n",
            "4\n",
            "9\n",
            "16\n",
            "25\n",
            "36\n",
            "49\n",
            "64\n",
            "81\n",
            "100\n"
          ]
        }
      ]
    },
    {
      "cell_type": "code",
      "source": [
        "\n",
        "#19. Create a list of random numbers.\n",
        "import random\n",
        "l = random.sample(range(1,100),10)\n",
        "print(l)"
      ],
      "metadata": {
        "colab": {
          "base_uri": "https://localhost:8080/"
        },
        "id": "KJAgIuH-YXtb",
        "outputId": "6f8e045d-a8dc-443a-c6c3-a3930d54a485"
      },
      "execution_count": 60,
      "outputs": [
        {
          "output_type": "stream",
          "name": "stdout",
          "text": [
            "[1, 36, 92, 2, 9, 48, 99, 64, 58, 62]\n"
          ]
        }
      ]
    },
    {
      "cell_type": "code",
      "source": [
        "#20. Remove duplicates from a list.\n",
        "l=[2,4,67,8,88,4,1,1,2,]\n",
        "l=list(set(l))\n",
        "print(l)\n"
      ],
      "metadata": {
        "colab": {
          "base_uri": "https://localhost:8080/"
        },
        "id": "nZ84U018Yuji",
        "outputId": "95abc0f5-53a1-45b1-a30f-3833381c4813"
      },
      "execution_count": 62,
      "outputs": [
        {
          "output_type": "stream",
          "name": "stdout",
          "text": [
            "[1, 2, 67, 4, 8, 88]\n"
          ]
        }
      ]
    },
    {
      "cell_type": "code",
      "source": [
        "#21. Find the common elements between two lists.\n",
        "l1=[1,2,3,4,5,6,7,8]\n",
        "l2=[5,6,7,8,9,10,11,12]\n",
        "l3=list(set(l1).intersection(l2))\n",
        "print(l3)"
      ],
      "metadata": {
        "colab": {
          "base_uri": "https://localhost:8080/"
        },
        "id": "Ad-UzKiDZ0w8",
        "outputId": "e340ce6d-1b81-4563-e232-0e22a28ad5af"
      },
      "execution_count": 64,
      "outputs": [
        {
          "output_type": "stream",
          "name": "stdout",
          "text": [
            "[8, 5, 6, 7]\n"
          ]
        }
      ]
    },
    {
      "cell_type": "code",
      "source": [
        "#22. Find the difference between two lists.\n",
        "l1=[1,2,3,4,5,6,7,8]\n",
        "l2=[5,6,7,8,9,10,11,12]\n",
        "l3=list(set(l1).difference(l2))\n",
        "\n",
        "print(l3)"
      ],
      "metadata": {
        "colab": {
          "base_uri": "https://localhost:8080/"
        },
        "id": "kvzpDPNvahZK",
        "outputId": "bb280ea1-ea22-48df-f332-da21fb47dbe8"
      },
      "execution_count": 68,
      "outputs": [
        {
          "output_type": "stream",
          "name": "stdout",
          "text": [
            "[1, 2, 3, 4]\n"
          ]
        }
      ]
    },
    {
      "cell_type": "code",
      "source": [
        "#23. Merge two lists.\n",
        "l1=[1,2,3,4,5,6,7,8]\n",
        "l2=[5,6,7,8,9,10,11,12]\n",
        "l3=l1+l2\n",
        "print(l3)\n"
      ],
      "metadata": {
        "colab": {
          "base_uri": "https://localhost:8080/"
        },
        "id": "JpyJqarNbAld",
        "outputId": "929bdce9-e575-4d79-b5cf-a2ced750b619"
      },
      "execution_count": 71,
      "outputs": [
        {
          "output_type": "stream",
          "name": "stdout",
          "text": [
            "[1, 2, 3, 4, 5, 6, 7, 8, 5, 6, 7, 8, 9, 10, 11, 12]\n"
          ]
        }
      ]
    },
    {
      "cell_type": "code",
      "source": [
        "#24. Multiply all elements in a list by 2.\n",
        "l=[1,2,3,4,5,6,7,8]\n",
        "for i in l:\n",
        "  print(i*2)\n"
      ],
      "metadata": {
        "colab": {
          "base_uri": "https://localhost:8080/"
        },
        "id": "jZ6K5ZZcby5f",
        "outputId": "dcb4df6c-ec0c-4fd4-a3ca-788b967dff83"
      },
      "execution_count": 72,
      "outputs": [
        {
          "output_type": "stream",
          "name": "stdout",
          "text": [
            "2\n",
            "4\n",
            "6\n",
            "8\n",
            "10\n",
            "12\n",
            "14\n",
            "16\n"
          ]
        }
      ]
    },
    {
      "cell_type": "code",
      "source": [
        "#25. Filter out all even numbers from a list.\n",
        "l=[1,2,3,4,5,6,7,8]\n",
        "for i in l:\n",
        "  if i%2==0:\n",
        "    print(i)\n"
      ],
      "metadata": {
        "colab": {
          "base_uri": "https://localhost:8080/"
        },
        "id": "hAP-c49SeKtg",
        "outputId": "14dabe66-0f8f-40b2-a195-557fd79d4dd3"
      },
      "execution_count": 73,
      "outputs": [
        {
          "output_type": "stream",
          "name": "stdout",
          "text": [
            "2\n",
            "4\n",
            "6\n",
            "8\n"
          ]
        }
      ]
    },
    {
      "cell_type": "code",
      "source": [],
      "metadata": {
        "id": "7E8tcv32eo-h"
      },
      "execution_count": null,
      "outputs": []
    }
  ]
}